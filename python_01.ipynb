{
  "nbformat": 4,
  "nbformat_minor": 0,
  "metadata": {
    "colab": {
      "provenance": [],
      "authorship_tag": "ABX9TyOArjc88hSyZXeqTUW8UcJN",
      "include_colab_link": true
    },
    "kernelspec": {
      "name": "python3",
      "display_name": "Python 3"
    },
    "language_info": {
      "name": "python"
    }
  },
  "cells": [
    {
      "cell_type": "markdown",
      "metadata": {
        "id": "view-in-github",
        "colab_type": "text"
      },
      "source": [
        "<a href=\"https://colab.research.google.com/github/PulkitJain-19/Python_lab/blob/main/python_01.ipynb\" target=\"_parent\"><img src=\"https://colab.research.google.com/assets/colab-badge.svg\" alt=\"Open In Colab\"/></a>"
      ]
    },
    {
      "cell_type": "code",
      "source": [
        "print('Hello World')"
      ],
      "metadata": {
        "id": "T0pRPP6jlmH9",
        "colab": {
          "base_uri": "https://localhost:8080/"
        },
        "outputId": "a3d26e2a-0496-494c-a72f-e4e885c74d56"
      },
      "execution_count": 3,
      "outputs": [
        {
          "output_type": "stream",
          "name": "stdout",
          "text": [
            "Hello World\n"
          ]
        }
      ]
    },
    {
      "cell_type": "code",
      "source": [
        "a=int (input('Enter the 1st value: '))\n",
        "b=int(input('Enter the 2nd value: '))\n",
        "print('The Sum is:',a+b)\n",
        "print('The subtraction is:',a-b)\n",
        "print('The Division is:',a/b)\n",
        "print('The Multiplication is:',a*b)"
      ],
      "metadata": {
        "colab": {
          "base_uri": "https://localhost:8080/"
        },
        "id": "BWYguar8nCea",
        "outputId": "007702ae-3353-4340-9236-a0717b95be82"
      },
      "execution_count": 10,
      "outputs": [
        {
          "output_type": "stream",
          "name": "stdout",
          "text": [
            "Enter the 1st value: 10\n",
            "Enter the 2nd value: 5\n",
            "The Sum is: 15\n",
            "The subtraction is: 5\n",
            "The Division is: 2.0\n",
            "The Multiplication is: 50\n"
          ]
        }
      ]
    },
    {
      "cell_type": "markdown",
      "source": [],
      "metadata": {
        "id": "1fo32FUTtbX8"
      }
    }
  ]
}